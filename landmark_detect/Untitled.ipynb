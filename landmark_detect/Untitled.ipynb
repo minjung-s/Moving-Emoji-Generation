{
 "cells": [
  {
   "cell_type": "code",
   "execution_count": null,
   "metadata": {},
   "outputs": [],
   "source": [
    "!python save_landmark.py"
   ]
  },
  {
   "cell_type": "code",
   "execution_count": 6,
   "metadata": {},
   "outputs": [
    {
     "name": "stdout",
     "output_type": "stream",
     "text": [
      "Requirement already satisfied: dlib in c:\\anaconda3\\lib\\site-packages (19.21.1)\n"
     ]
    }
   ],
   "source": [
    "!pip install dlib"
   ]
  },
  {
   "cell_type": "code",
   "execution_count": 8,
   "metadata": {},
   "outputs": [
    {
     "name": "stdout",
     "output_type": "stream",
     "text": [
      "Collecting opencv-contrib-python\n",
      "  Downloading https://files.pythonhosted.org/packages/1b/28/db15a674d473959efbed4253471ae27f9e68dcb59f87e5a6ac163df4a027/opencv_contrib_python-4.5.1.48-cp37-cp37m-win_amd64.whl (41.2MB)\n",
      "Requirement already satisfied: numpy>=1.14.5 in c:\\anaconda3\\lib\\site-packages (from opencv-contrib-python) (1.16.5)\n",
      "Installing collected packages: opencv-contrib-python\n",
      "Successfully installed opencv-contrib-python-4.5.1.48\n"
     ]
    }
   ],
   "source": [
    "!pip install opencv-contrib-python"
   ]
  },
  {
   "cell_type": "code",
   "execution_count": 1,
   "metadata": {},
   "outputs": [
    {
     "name": "stdout",
     "output_type": "stream",
     "text": [
      " C 드라이브의 볼륨에는 이름이 없습니다.\n",
      " 볼륨 일련 번호: 1CCF-D498\n",
      "\n",
      " C:\\Users\\S2민정S2\\Desktop\\폴더정리\\github\\moving_emoji\\Moving-Emoji-Generation\\landmark_detect 디렉터리\n",
      "\n",
      "2021-01-07  오후 06:35    <DIR>          .\n",
      "2021-01-07  오후 06:35    <DIR>          ..\n",
      "2021-01-07  오후 05:53    <DIR>          .ipynb_checkpoints\n",
      "2021-01-07  오후 06:38             4,145 save_landmark.py\n",
      "2021-01-07  오후 06:31        99,693,937 shape_predictor_68_face_landmarks.dat\n",
      "2021-01-07  오후 06:35             1,774 Untitled.ipynb\n",
      "               3개 파일          99,699,856 바이트\n",
      "               3개 디렉터리  38,177,144,832 바이트 남음\n"
     ]
    }
   ],
   "source": [
    "ls"
   ]
  },
  {
   "cell_type": "code",
   "execution_count": null,
   "metadata": {},
   "outputs": [],
   "source": []
  }
 ],
 "metadata": {
  "kernelspec": {
   "display_name": "Python 3",
   "language": "python",
   "name": "python3"
  },
  "language_info": {
   "codemirror_mode": {
    "name": "ipython",
    "version": 3
   },
   "file_extension": ".py",
   "mimetype": "text/x-python",
   "name": "python",
   "nbconvert_exporter": "python",
   "pygments_lexer": "ipython3",
   "version": "3.7.4"
  }
 },
 "nbformat": 4,
 "nbformat_minor": 2
}
